{
  "nbformat": 4,
  "nbformat_minor": 0,
  "metadata": {
    "colab": {
      "provenance": [],
      "gpuType": "T4"
    },
    "kernelspec": {
      "name": "python3",
      "display_name": "Python 3"
    },
    "language_info": {
      "name": "python"
    },
    "accelerator": "GPU",
    "widgets": {
      "application/vnd.jupyter.widget-state+json": {
        "f324747e45af49f4817cc1cb1c62f3b6": {
          "model_module": "@jupyter-widgets/controls",
          "model_name": "HBoxModel",
          "model_module_version": "1.5.0",
          "state": {
            "_dom_classes": [],
            "_model_module": "@jupyter-widgets/controls",
            "_model_module_version": "1.5.0",
            "_model_name": "HBoxModel",
            "_view_count": null,
            "_view_module": "@jupyter-widgets/controls",
            "_view_module_version": "1.5.0",
            "_view_name": "HBoxView",
            "box_style": "",
            "children": [
              "IPY_MODEL_1d66e8a27bf04e4a8b515fed588d7609",
              "IPY_MODEL_96cfccdc3b424d8fa49117e776aa72eb",
              "IPY_MODEL_c1bf5ad515bb4f0dbe2357d093dc2305"
            ],
            "layout": "IPY_MODEL_1b53b6888a9e478ebe5f4e61d454dea3"
          }
        },
        "1d66e8a27bf04e4a8b515fed588d7609": {
          "model_module": "@jupyter-widgets/controls",
          "model_name": "HTMLModel",
          "model_module_version": "1.5.0",
          "state": {
            "_dom_classes": [],
            "_model_module": "@jupyter-widgets/controls",
            "_model_module_version": "1.5.0",
            "_model_name": "HTMLModel",
            "_view_count": null,
            "_view_module": "@jupyter-widgets/controls",
            "_view_module_version": "1.5.0",
            "_view_name": "HTMLView",
            "description": "",
            "description_tooltip": null,
            "layout": "IPY_MODEL_713463de7bc040408e22a05b3b8e6865",
            "placeholder": "​",
            "style": "IPY_MODEL_3939726753c94653baa734a56bc02fc5",
            "value": "config.json: 100%"
          }
        },
        "96cfccdc3b424d8fa49117e776aa72eb": {
          "model_module": "@jupyter-widgets/controls",
          "model_name": "FloatProgressModel",
          "model_module_version": "1.5.0",
          "state": {
            "_dom_classes": [],
            "_model_module": "@jupyter-widgets/controls",
            "_model_module_version": "1.5.0",
            "_model_name": "FloatProgressModel",
            "_view_count": null,
            "_view_module": "@jupyter-widgets/controls",
            "_view_module_version": "1.5.0",
            "_view_name": "ProgressView",
            "bar_style": "success",
            "description": "",
            "description_tooltip": null,
            "layout": "IPY_MODEL_4399268932134c2fa2a20e25a873344b",
            "max": 610,
            "min": 0,
            "orientation": "horizontal",
            "style": "IPY_MODEL_1a54203a538d48d081883523fa35ca8e",
            "value": 610
          }
        },
        "c1bf5ad515bb4f0dbe2357d093dc2305": {
          "model_module": "@jupyter-widgets/controls",
          "model_name": "HTMLModel",
          "model_module_version": "1.5.0",
          "state": {
            "_dom_classes": [],
            "_model_module": "@jupyter-widgets/controls",
            "_model_module_version": "1.5.0",
            "_model_name": "HTMLModel",
            "_view_count": null,
            "_view_module": "@jupyter-widgets/controls",
            "_view_module_version": "1.5.0",
            "_view_name": "HTMLView",
            "description": "",
            "description_tooltip": null,
            "layout": "IPY_MODEL_59b7c71a381e47fcb171622ff67375a6",
            "placeholder": "​",
            "style": "IPY_MODEL_efea67da0ff64dd9a971a4d04f96ed68",
            "value": " 610/610 [00:00&lt;00:00, 25.4kB/s]"
          }
        },
        "1b53b6888a9e478ebe5f4e61d454dea3": {
          "model_module": "@jupyter-widgets/base",
          "model_name": "LayoutModel",
          "model_module_version": "1.2.0",
          "state": {
            "_model_module": "@jupyter-widgets/base",
            "_model_module_version": "1.2.0",
            "_model_name": "LayoutModel",
            "_view_count": null,
            "_view_module": "@jupyter-widgets/base",
            "_view_module_version": "1.2.0",
            "_view_name": "LayoutView",
            "align_content": null,
            "align_items": null,
            "align_self": null,
            "border": null,
            "bottom": null,
            "display": null,
            "flex": null,
            "flex_flow": null,
            "grid_area": null,
            "grid_auto_columns": null,
            "grid_auto_flow": null,
            "grid_auto_rows": null,
            "grid_column": null,
            "grid_gap": null,
            "grid_row": null,
            "grid_template_areas": null,
            "grid_template_columns": null,
            "grid_template_rows": null,
            "height": null,
            "justify_content": null,
            "justify_items": null,
            "left": null,
            "margin": null,
            "max_height": null,
            "max_width": null,
            "min_height": null,
            "min_width": null,
            "object_fit": null,
            "object_position": null,
            "order": null,
            "overflow": null,
            "overflow_x": null,
            "overflow_y": null,
            "padding": null,
            "right": null,
            "top": null,
            "visibility": null,
            "width": null
          }
        },
        "713463de7bc040408e22a05b3b8e6865": {
          "model_module": "@jupyter-widgets/base",
          "model_name": "LayoutModel",
          "model_module_version": "1.2.0",
          "state": {
            "_model_module": "@jupyter-widgets/base",
            "_model_module_version": "1.2.0",
            "_model_name": "LayoutModel",
            "_view_count": null,
            "_view_module": "@jupyter-widgets/base",
            "_view_module_version": "1.2.0",
            "_view_name": "LayoutView",
            "align_content": null,
            "align_items": null,
            "align_self": null,
            "border": null,
            "bottom": null,
            "display": null,
            "flex": null,
            "flex_flow": null,
            "grid_area": null,
            "grid_auto_columns": null,
            "grid_auto_flow": null,
            "grid_auto_rows": null,
            "grid_column": null,
            "grid_gap": null,
            "grid_row": null,
            "grid_template_areas": null,
            "grid_template_columns": null,
            "grid_template_rows": null,
            "height": null,
            "justify_content": null,
            "justify_items": null,
            "left": null,
            "margin": null,
            "max_height": null,
            "max_width": null,
            "min_height": null,
            "min_width": null,
            "object_fit": null,
            "object_position": null,
            "order": null,
            "overflow": null,
            "overflow_x": null,
            "overflow_y": null,
            "padding": null,
            "right": null,
            "top": null,
            "visibility": null,
            "width": null
          }
        },
        "3939726753c94653baa734a56bc02fc5": {
          "model_module": "@jupyter-widgets/controls",
          "model_name": "DescriptionStyleModel",
          "model_module_version": "1.5.0",
          "state": {
            "_model_module": "@jupyter-widgets/controls",
            "_model_module_version": "1.5.0",
            "_model_name": "DescriptionStyleModel",
            "_view_count": null,
            "_view_module": "@jupyter-widgets/base",
            "_view_module_version": "1.2.0",
            "_view_name": "StyleView",
            "description_width": ""
          }
        },
        "4399268932134c2fa2a20e25a873344b": {
          "model_module": "@jupyter-widgets/base",
          "model_name": "LayoutModel",
          "model_module_version": "1.2.0",
          "state": {
            "_model_module": "@jupyter-widgets/base",
            "_model_module_version": "1.2.0",
            "_model_name": "LayoutModel",
            "_view_count": null,
            "_view_module": "@jupyter-widgets/base",
            "_view_module_version": "1.2.0",
            "_view_name": "LayoutView",
            "align_content": null,
            "align_items": null,
            "align_self": null,
            "border": null,
            "bottom": null,
            "display": null,
            "flex": null,
            "flex_flow": null,
            "grid_area": null,
            "grid_auto_columns": null,
            "grid_auto_flow": null,
            "grid_auto_rows": null,
            "grid_column": null,
            "grid_gap": null,
            "grid_row": null,
            "grid_template_areas": null,
            "grid_template_columns": null,
            "grid_template_rows": null,
            "height": null,
            "justify_content": null,
            "justify_items": null,
            "left": null,
            "margin": null,
            "max_height": null,
            "max_width": null,
            "min_height": null,
            "min_width": null,
            "object_fit": null,
            "object_position": null,
            "order": null,
            "overflow": null,
            "overflow_x": null,
            "overflow_y": null,
            "padding": null,
            "right": null,
            "top": null,
            "visibility": null,
            "width": null
          }
        },
        "1a54203a538d48d081883523fa35ca8e": {
          "model_module": "@jupyter-widgets/controls",
          "model_name": "ProgressStyleModel",
          "model_module_version": "1.5.0",
          "state": {
            "_model_module": "@jupyter-widgets/controls",
            "_model_module_version": "1.5.0",
            "_model_name": "ProgressStyleModel",
            "_view_count": null,
            "_view_module": "@jupyter-widgets/base",
            "_view_module_version": "1.2.0",
            "_view_name": "StyleView",
            "bar_color": null,
            "description_width": ""
          }
        },
        "59b7c71a381e47fcb171622ff67375a6": {
          "model_module": "@jupyter-widgets/base",
          "model_name": "LayoutModel",
          "model_module_version": "1.2.0",
          "state": {
            "_model_module": "@jupyter-widgets/base",
            "_model_module_version": "1.2.0",
            "_model_name": "LayoutModel",
            "_view_count": null,
            "_view_module": "@jupyter-widgets/base",
            "_view_module_version": "1.2.0",
            "_view_name": "LayoutView",
            "align_content": null,
            "align_items": null,
            "align_self": null,
            "border": null,
            "bottom": null,
            "display": null,
            "flex": null,
            "flex_flow": null,
            "grid_area": null,
            "grid_auto_columns": null,
            "grid_auto_flow": null,
            "grid_auto_rows": null,
            "grid_column": null,
            "grid_gap": null,
            "grid_row": null,
            "grid_template_areas": null,
            "grid_template_columns": null,
            "grid_template_rows": null,
            "height": null,
            "justify_content": null,
            "justify_items": null,
            "left": null,
            "margin": null,
            "max_height": null,
            "max_width": null,
            "min_height": null,
            "min_width": null,
            "object_fit": null,
            "object_position": null,
            "order": null,
            "overflow": null,
            "overflow_x": null,
            "overflow_y": null,
            "padding": null,
            "right": null,
            "top": null,
            "visibility": null,
            "width": null
          }
        },
        "efea67da0ff64dd9a971a4d04f96ed68": {
          "model_module": "@jupyter-widgets/controls",
          "model_name": "DescriptionStyleModel",
          "model_module_version": "1.5.0",
          "state": {
            "_model_module": "@jupyter-widgets/controls",
            "_model_module_version": "1.5.0",
            "_model_name": "DescriptionStyleModel",
            "_view_count": null,
            "_view_module": "@jupyter-widgets/base",
            "_view_module_version": "1.2.0",
            "_view_name": "StyleView",
            "description_width": ""
          }
        },
        "d944ee0c442840a5b54e62760d032562": {
          "model_module": "@jupyter-widgets/controls",
          "model_name": "HBoxModel",
          "model_module_version": "1.5.0",
          "state": {
            "_dom_classes": [],
            "_model_module": "@jupyter-widgets/controls",
            "_model_module_version": "1.5.0",
            "_model_name": "HBoxModel",
            "_view_count": null,
            "_view_module": "@jupyter-widgets/controls",
            "_view_module_version": "1.5.0",
            "_view_name": "HBoxView",
            "box_style": "",
            "children": [
              "IPY_MODEL_c88cf778e1f94979b8b6bd49d7aa30a3",
              "IPY_MODEL_73eb905198424f9ab0b524dee4439301",
              "IPY_MODEL_1a4e2847a6ce47919b705597f6bd64f3"
            ],
            "layout": "IPY_MODEL_68855da75fdc4d88a6775579daac1c77"
          }
        },
        "c88cf778e1f94979b8b6bd49d7aa30a3": {
          "model_module": "@jupyter-widgets/controls",
          "model_name": "HTMLModel",
          "model_module_version": "1.5.0",
          "state": {
            "_dom_classes": [],
            "_model_module": "@jupyter-widgets/controls",
            "_model_module_version": "1.5.0",
            "_model_name": "HTMLModel",
            "_view_count": null,
            "_view_module": "@jupyter-widgets/controls",
            "_view_module_version": "1.5.0",
            "_view_name": "HTMLView",
            "description": "",
            "description_tooltip": null,
            "layout": "IPY_MODEL_ae2b7765e6354fe9aedc4db7b39ec636",
            "placeholder": "​",
            "style": "IPY_MODEL_18f437f58dd546838ecc10843bd33038",
            "value": "model.safetensors: 100%"
          }
        },
        "73eb905198424f9ab0b524dee4439301": {
          "model_module": "@jupyter-widgets/controls",
          "model_name": "FloatProgressModel",
          "model_module_version": "1.5.0",
          "state": {
            "_dom_classes": [],
            "_model_module": "@jupyter-widgets/controls",
            "_model_module_version": "1.5.0",
            "_model_name": "FloatProgressModel",
            "_view_count": null,
            "_view_module": "@jupyter-widgets/controls",
            "_view_module_version": "1.5.0",
            "_view_name": "ProgressView",
            "bar_style": "success",
            "description": "",
            "description_tooltip": null,
            "layout": "IPY_MODEL_e9d5f2f83b6740deaad44c0c531178b8",
            "max": 265463712,
            "min": 0,
            "orientation": "horizontal",
            "style": "IPY_MODEL_c5a9ddc9b22940eb818b028b9a7b22c8",
            "value": 265463712
          }
        },
        "1a4e2847a6ce47919b705597f6bd64f3": {
          "model_module": "@jupyter-widgets/controls",
          "model_name": "HTMLModel",
          "model_module_version": "1.5.0",
          "state": {
            "_dom_classes": [],
            "_model_module": "@jupyter-widgets/controls",
            "_model_module_version": "1.5.0",
            "_model_name": "HTMLModel",
            "_view_count": null,
            "_view_module": "@jupyter-widgets/controls",
            "_view_module_version": "1.5.0",
            "_view_name": "HTMLView",
            "description": "",
            "description_tooltip": null,
            "layout": "IPY_MODEL_0fcbdd078bb142c4b43782a1432493c1",
            "placeholder": "​",
            "style": "IPY_MODEL_205ff8d9f97d4f31b55032a57d0f9913",
            "value": " 265M/265M [00:07&lt;00:00, 37.6MB/s]"
          }
        },
        "68855da75fdc4d88a6775579daac1c77": {
          "model_module": "@jupyter-widgets/base",
          "model_name": "LayoutModel",
          "model_module_version": "1.2.0",
          "state": {
            "_model_module": "@jupyter-widgets/base",
            "_model_module_version": "1.2.0",
            "_model_name": "LayoutModel",
            "_view_count": null,
            "_view_module": "@jupyter-widgets/base",
            "_view_module_version": "1.2.0",
            "_view_name": "LayoutView",
            "align_content": null,
            "align_items": null,
            "align_self": null,
            "border": null,
            "bottom": null,
            "display": null,
            "flex": null,
            "flex_flow": null,
            "grid_area": null,
            "grid_auto_columns": null,
            "grid_auto_flow": null,
            "grid_auto_rows": null,
            "grid_column": null,
            "grid_gap": null,
            "grid_row": null,
            "grid_template_areas": null,
            "grid_template_columns": null,
            "grid_template_rows": null,
            "height": null,
            "justify_content": null,
            "justify_items": null,
            "left": null,
            "margin": null,
            "max_height": null,
            "max_width": null,
            "min_height": null,
            "min_width": null,
            "object_fit": null,
            "object_position": null,
            "order": null,
            "overflow": null,
            "overflow_x": null,
            "overflow_y": null,
            "padding": null,
            "right": null,
            "top": null,
            "visibility": null,
            "width": null
          }
        },
        "ae2b7765e6354fe9aedc4db7b39ec636": {
          "model_module": "@jupyter-widgets/base",
          "model_name": "LayoutModel",
          "model_module_version": "1.2.0",
          "state": {
            "_model_module": "@jupyter-widgets/base",
            "_model_module_version": "1.2.0",
            "_model_name": "LayoutModel",
            "_view_count": null,
            "_view_module": "@jupyter-widgets/base",
            "_view_module_version": "1.2.0",
            "_view_name": "LayoutView",
            "align_content": null,
            "align_items": null,
            "align_self": null,
            "border": null,
            "bottom": null,
            "display": null,
            "flex": null,
            "flex_flow": null,
            "grid_area": null,
            "grid_auto_columns": null,
            "grid_auto_flow": null,
            "grid_auto_rows": null,
            "grid_column": null,
            "grid_gap": null,
            "grid_row": null,
            "grid_template_areas": null,
            "grid_template_columns": null,
            "grid_template_rows": null,
            "height": null,
            "justify_content": null,
            "justify_items": null,
            "left": null,
            "margin": null,
            "max_height": null,
            "max_width": null,
            "min_height": null,
            "min_width": null,
            "object_fit": null,
            "object_position": null,
            "order": null,
            "overflow": null,
            "overflow_x": null,
            "overflow_y": null,
            "padding": null,
            "right": null,
            "top": null,
            "visibility": null,
            "width": null
          }
        },
        "18f437f58dd546838ecc10843bd33038": {
          "model_module": "@jupyter-widgets/controls",
          "model_name": "DescriptionStyleModel",
          "model_module_version": "1.5.0",
          "state": {
            "_model_module": "@jupyter-widgets/controls",
            "_model_module_version": "1.5.0",
            "_model_name": "DescriptionStyleModel",
            "_view_count": null,
            "_view_module": "@jupyter-widgets/base",
            "_view_module_version": "1.2.0",
            "_view_name": "StyleView",
            "description_width": ""
          }
        },
        "e9d5f2f83b6740deaad44c0c531178b8": {
          "model_module": "@jupyter-widgets/base",
          "model_name": "LayoutModel",
          "model_module_version": "1.2.0",
          "state": {
            "_model_module": "@jupyter-widgets/base",
            "_model_module_version": "1.2.0",
            "_model_name": "LayoutModel",
            "_view_count": null,
            "_view_module": "@jupyter-widgets/base",
            "_view_module_version": "1.2.0",
            "_view_name": "LayoutView",
            "align_content": null,
            "align_items": null,
            "align_self": null,
            "border": null,
            "bottom": null,
            "display": null,
            "flex": null,
            "flex_flow": null,
            "grid_area": null,
            "grid_auto_columns": null,
            "grid_auto_flow": null,
            "grid_auto_rows": null,
            "grid_column": null,
            "grid_gap": null,
            "grid_row": null,
            "grid_template_areas": null,
            "grid_template_columns": null,
            "grid_template_rows": null,
            "height": null,
            "justify_content": null,
            "justify_items": null,
            "left": null,
            "margin": null,
            "max_height": null,
            "max_width": null,
            "min_height": null,
            "min_width": null,
            "object_fit": null,
            "object_position": null,
            "order": null,
            "overflow": null,
            "overflow_x": null,
            "overflow_y": null,
            "padding": null,
            "right": null,
            "top": null,
            "visibility": null,
            "width": null
          }
        },
        "c5a9ddc9b22940eb818b028b9a7b22c8": {
          "model_module": "@jupyter-widgets/controls",
          "model_name": "ProgressStyleModel",
          "model_module_version": "1.5.0",
          "state": {
            "_model_module": "@jupyter-widgets/controls",
            "_model_module_version": "1.5.0",
            "_model_name": "ProgressStyleModel",
            "_view_count": null,
            "_view_module": "@jupyter-widgets/base",
            "_view_module_version": "1.2.0",
            "_view_name": "StyleView",
            "bar_color": null,
            "description_width": ""
          }
        },
        "0fcbdd078bb142c4b43782a1432493c1": {
          "model_module": "@jupyter-widgets/base",
          "model_name": "LayoutModel",
          "model_module_version": "1.2.0",
          "state": {
            "_model_module": "@jupyter-widgets/base",
            "_model_module_version": "1.2.0",
            "_model_name": "LayoutModel",
            "_view_count": null,
            "_view_module": "@jupyter-widgets/base",
            "_view_module_version": "1.2.0",
            "_view_name": "LayoutView",
            "align_content": null,
            "align_items": null,
            "align_self": null,
            "border": null,
            "bottom": null,
            "display": null,
            "flex": null,
            "flex_flow": null,
            "grid_area": null,
            "grid_auto_columns": null,
            "grid_auto_flow": null,
            "grid_auto_rows": null,
            "grid_column": null,
            "grid_gap": null,
            "grid_row": null,
            "grid_template_areas": null,
            "grid_template_columns": null,
            "grid_template_rows": null,
            "height": null,
            "justify_content": null,
            "justify_items": null,
            "left": null,
            "margin": null,
            "max_height": null,
            "max_width": null,
            "min_height": null,
            "min_width": null,
            "object_fit": null,
            "object_position": null,
            "order": null,
            "overflow": null,
            "overflow_x": null,
            "overflow_y": null,
            "padding": null,
            "right": null,
            "top": null,
            "visibility": null,
            "width": null
          }
        },
        "205ff8d9f97d4f31b55032a57d0f9913": {
          "model_module": "@jupyter-widgets/controls",
          "model_name": "DescriptionStyleModel",
          "model_module_version": "1.5.0",
          "state": {
            "_model_module": "@jupyter-widgets/controls",
            "_model_module_version": "1.5.0",
            "_model_name": "DescriptionStyleModel",
            "_view_count": null,
            "_view_module": "@jupyter-widgets/base",
            "_view_module_version": "1.2.0",
            "_view_name": "StyleView",
            "description_width": ""
          }
        }
      }
    }
  },
  "cells": [
    {
      "cell_type": "code",
      "execution_count": 59,
      "metadata": {
        "colab": {
          "base_uri": "https://localhost:8080/"
        },
        "collapsed": true,
        "id": "kYk5wWwUjywO",
        "outputId": "2025df71-2a40-4d41-d868-66076d86d58a"
      },
      "outputs": [
        {
          "output_type": "stream",
          "name": "stdout",
          "text": [
            "Cloning into 'alignment-handbook'...\n",
            "remote: Enumerating objects: 1037, done.\u001b[K\n",
            "remote: Counting objects: 100% (755/755), done.\u001b[K\n",
            "remote: Compressing objects: 100% (423/423), done.\u001b[K\n",
            "remote: Total 1037 (delta 514), reused 442 (delta 298), pack-reused 282 (from 1)\u001b[K\n",
            "Receiving objects: 100% (1037/1037), 283.15 KiB | 1.31 MiB/s, done.\n",
            "Resolving deltas: 100% (576/576), done.\n",
            "/content/alignment-handbook/alignment-handbook/alignment-handbook/alignment-handbook\n",
            "Processing /content/alignment-handbook/alignment-handbook/alignment-handbook/alignment-handbook\n",
            "  Preparing metadata (setup.py) ... \u001b[?25l\u001b[?25hdone\n",
            "Requirement already satisfied: accelerate>=0.29.2 in /usr/local/lib/python3.10/dist-packages (from alignment-handbook==0.4.0.dev0) (1.1.1)\n",
            "Requirement already satisfied: bitsandbytes>=0.43.0 in /usr/local/lib/python3.10/dist-packages (from alignment-handbook==0.4.0.dev0) (0.44.1)\n",
            "Requirement already satisfied: einops>=0.6.1 in /usr/local/lib/python3.10/dist-packages (from alignment-handbook==0.4.0.dev0) (0.8.0)\n",
            "Requirement already satisfied: evaluate==0.4.0 in /usr/local/lib/python3.10/dist-packages (from alignment-handbook==0.4.0.dev0) (0.4.0)\n",
            "Requirement already satisfied: datasets>=2.18.0 in /usr/local/lib/python3.10/dist-packages (from alignment-handbook==0.4.0.dev0) (3.1.0)\n",
            "Requirement already satisfied: deepspeed>=0.14.4 in /usr/local/lib/python3.10/dist-packages (from alignment-handbook==0.4.0.dev0) (0.15.4)\n",
            "Requirement already satisfied: hf_transfer>=0.1.4 in /usr/local/lib/python3.10/dist-packages (from alignment-handbook==0.4.0.dev0) (0.1.8)\n",
            "Requirement already satisfied: huggingface-hub<1.0,>=0.19.2 in /usr/local/lib/python3.10/dist-packages (from alignment-handbook==0.4.0.dev0) (0.26.2)\n",
            "Requirement already satisfied: jinja2>=3.0.0 in /usr/local/lib/python3.10/dist-packages (from alignment-handbook==0.4.0.dev0) (3.1.4)\n",
            "Requirement already satisfied: ninja>=1.11.1 in /usr/local/lib/python3.10/dist-packages (from alignment-handbook==0.4.0.dev0) (1.11.1.1)\n",
            "Requirement already satisfied: numpy>=1.24.2 in /usr/local/lib/python3.10/dist-packages (from alignment-handbook==0.4.0.dev0) (1.26.4)\n",
            "Requirement already satisfied: packaging>=23.0 in /usr/local/lib/python3.10/dist-packages (from alignment-handbook==0.4.0.dev0) (24.2)\n",
            "Requirement already satisfied: peft>=0.9.0 in /usr/local/lib/python3.10/dist-packages (from alignment-handbook==0.4.0.dev0) (0.13.2)\n",
            "Requirement already satisfied: protobuf<=3.20.2 in /usr/local/lib/python3.10/dist-packages (from alignment-handbook==0.4.0.dev0) (3.20.2)\n",
            "Requirement already satisfied: safetensors>=0.3.3 in /usr/local/lib/python3.10/dist-packages (from alignment-handbook==0.4.0.dev0) (0.4.5)\n",
            "Requirement already satisfied: sentencepiece>=0.1.99 in /usr/local/lib/python3.10/dist-packages (from alignment-handbook==0.4.0.dev0) (0.2.0)\n",
            "Requirement already satisfied: scipy in /usr/local/lib/python3.10/dist-packages (from alignment-handbook==0.4.0.dev0) (1.13.1)\n",
            "Requirement already satisfied: tensorboard in /usr/local/lib/python3.10/dist-packages (from alignment-handbook==0.4.0.dev0) (2.17.0)\n",
            "Requirement already satisfied: tqdm>=4.64.1 in /usr/local/lib/python3.10/dist-packages (from alignment-handbook==0.4.0.dev0) (4.66.6)\n",
            "Requirement already satisfied: transformers>=4.39.3 in /usr/local/lib/python3.10/dist-packages (from alignment-handbook==0.4.0.dev0) (4.46.2)\n",
            "Requirement already satisfied: trl>=0.9.6 in /usr/local/lib/python3.10/dist-packages (from alignment-handbook==0.4.0.dev0) (0.12.1)\n",
            "Requirement already satisfied: dill in /usr/local/lib/python3.10/dist-packages (from evaluate==0.4.0->alignment-handbook==0.4.0.dev0) (0.3.8)\n",
            "Requirement already satisfied: pandas in /usr/local/lib/python3.10/dist-packages (from evaluate==0.4.0->alignment-handbook==0.4.0.dev0) (2.2.2)\n",
            "Requirement already satisfied: requests>=2.19.0 in /usr/local/lib/python3.10/dist-packages (from evaluate==0.4.0->alignment-handbook==0.4.0.dev0) (2.32.3)\n",
            "Requirement already satisfied: xxhash in /usr/local/lib/python3.10/dist-packages (from evaluate==0.4.0->alignment-handbook==0.4.0.dev0) (3.5.0)\n",
            "Requirement already satisfied: multiprocess in /usr/local/lib/python3.10/dist-packages (from evaluate==0.4.0->alignment-handbook==0.4.0.dev0) (0.70.16)\n",
            "Requirement already satisfied: fsspec>=2021.05.0 in /usr/local/lib/python3.10/dist-packages (from fsspec[http]>=2021.05.0->evaluate==0.4.0->alignment-handbook==0.4.0.dev0) (2024.9.0)\n",
            "Requirement already satisfied: responses<0.19 in /usr/local/lib/python3.10/dist-packages (from evaluate==0.4.0->alignment-handbook==0.4.0.dev0) (0.18.0)\n",
            "Requirement already satisfied: psutil in /usr/local/lib/python3.10/dist-packages (from accelerate>=0.29.2->alignment-handbook==0.4.0.dev0) (5.9.5)\n",
            "Requirement already satisfied: pyyaml in /usr/local/lib/python3.10/dist-packages (from accelerate>=0.29.2->alignment-handbook==0.4.0.dev0) (6.0.2)\n",
            "Requirement already satisfied: torch>=1.10.0 in /usr/local/lib/python3.10/dist-packages (from accelerate>=0.29.2->alignment-handbook==0.4.0.dev0) (2.5.0+cu121)\n",
            "Requirement already satisfied: filelock in /usr/local/lib/python3.10/dist-packages (from datasets>=2.18.0->alignment-handbook==0.4.0.dev0) (3.16.1)\n",
            "Requirement already satisfied: pyarrow>=15.0.0 in /usr/local/lib/python3.10/dist-packages (from datasets>=2.18.0->alignment-handbook==0.4.0.dev0) (17.0.0)\n",
            "Requirement already satisfied: aiohttp in /usr/local/lib/python3.10/dist-packages (from datasets>=2.18.0->alignment-handbook==0.4.0.dev0) (3.10.10)\n",
            "Requirement already satisfied: hjson in /usr/local/lib/python3.10/dist-packages (from deepspeed>=0.14.4->alignment-handbook==0.4.0.dev0) (3.1.0)\n",
            "Requirement already satisfied: msgpack in /usr/local/lib/python3.10/dist-packages (from deepspeed>=0.14.4->alignment-handbook==0.4.0.dev0) (1.1.0)\n",
            "Requirement already satisfied: py-cpuinfo in /usr/local/lib/python3.10/dist-packages (from deepspeed>=0.14.4->alignment-handbook==0.4.0.dev0) (9.0.0)\n",
            "Requirement already satisfied: pydantic>=2.0.0 in /usr/local/lib/python3.10/dist-packages (from deepspeed>=0.14.4->alignment-handbook==0.4.0.dev0) (2.9.2)\n",
            "Requirement already satisfied: nvidia-ml-py in /usr/local/lib/python3.10/dist-packages (from deepspeed>=0.14.4->alignment-handbook==0.4.0.dev0) (12.560.30)\n",
            "Requirement already satisfied: typing-extensions>=3.7.4.3 in /usr/local/lib/python3.10/dist-packages (from huggingface-hub<1.0,>=0.19.2->alignment-handbook==0.4.0.dev0) (4.12.2)\n",
            "Requirement already satisfied: MarkupSafe>=2.0 in /usr/local/lib/python3.10/dist-packages (from jinja2>=3.0.0->alignment-handbook==0.4.0.dev0) (3.0.2)\n",
            "Requirement already satisfied: regex!=2019.12.17 in /usr/local/lib/python3.10/dist-packages (from transformers>=4.39.3->alignment-handbook==0.4.0.dev0) (2024.9.11)\n",
            "Requirement already satisfied: tokenizers<0.21,>=0.20 in /usr/local/lib/python3.10/dist-packages (from transformers>=4.39.3->alignment-handbook==0.4.0.dev0) (0.20.3)\n",
            "Requirement already satisfied: rich in /usr/local/lib/python3.10/dist-packages (from trl>=0.9.6->alignment-handbook==0.4.0.dev0) (13.9.4)\n",
            "Requirement already satisfied: absl-py>=0.4 in /usr/local/lib/python3.10/dist-packages (from tensorboard->alignment-handbook==0.4.0.dev0) (1.4.0)\n",
            "Requirement already satisfied: grpcio>=1.48.2 in /usr/local/lib/python3.10/dist-packages (from tensorboard->alignment-handbook==0.4.0.dev0) (1.67.1)\n",
            "Requirement already satisfied: markdown>=2.6.8 in /usr/local/lib/python3.10/dist-packages (from tensorboard->alignment-handbook==0.4.0.dev0) (3.7)\n",
            "Requirement already satisfied: setuptools>=41.0.0 in /usr/local/lib/python3.10/dist-packages (from tensorboard->alignment-handbook==0.4.0.dev0) (75.1.0)\n",
            "Requirement already satisfied: six>1.9 in /usr/local/lib/python3.10/dist-packages (from tensorboard->alignment-handbook==0.4.0.dev0) (1.16.0)\n",
            "Requirement already satisfied: tensorboard-data-server<0.8.0,>=0.7.0 in /usr/local/lib/python3.10/dist-packages (from tensorboard->alignment-handbook==0.4.0.dev0) (0.7.2)\n",
            "Requirement already satisfied: werkzeug>=1.0.1 in /usr/local/lib/python3.10/dist-packages (from tensorboard->alignment-handbook==0.4.0.dev0) (3.1.3)\n",
            "Requirement already satisfied: aiohappyeyeballs>=2.3.0 in /usr/local/lib/python3.10/dist-packages (from aiohttp->datasets>=2.18.0->alignment-handbook==0.4.0.dev0) (2.4.3)\n",
            "Requirement already satisfied: aiosignal>=1.1.2 in /usr/local/lib/python3.10/dist-packages (from aiohttp->datasets>=2.18.0->alignment-handbook==0.4.0.dev0) (1.3.1)\n",
            "Requirement already satisfied: attrs>=17.3.0 in /usr/local/lib/python3.10/dist-packages (from aiohttp->datasets>=2.18.0->alignment-handbook==0.4.0.dev0) (24.2.0)\n",
            "Requirement already satisfied: frozenlist>=1.1.1 in /usr/local/lib/python3.10/dist-packages (from aiohttp->datasets>=2.18.0->alignment-handbook==0.4.0.dev0) (1.5.0)\n",
            "Requirement already satisfied: multidict<7.0,>=4.5 in /usr/local/lib/python3.10/dist-packages (from aiohttp->datasets>=2.18.0->alignment-handbook==0.4.0.dev0) (6.1.0)\n",
            "Requirement already satisfied: yarl<2.0,>=1.12.0 in /usr/local/lib/python3.10/dist-packages (from aiohttp->datasets>=2.18.0->alignment-handbook==0.4.0.dev0) (1.17.1)\n",
            "Requirement already satisfied: async-timeout<5.0,>=4.0 in /usr/local/lib/python3.10/dist-packages (from aiohttp->datasets>=2.18.0->alignment-handbook==0.4.0.dev0) (4.0.3)\n",
            "Requirement already satisfied: annotated-types>=0.6.0 in /usr/local/lib/python3.10/dist-packages (from pydantic>=2.0.0->deepspeed>=0.14.4->alignment-handbook==0.4.0.dev0) (0.7.0)\n",
            "Requirement already satisfied: pydantic-core==2.23.4 in /usr/local/lib/python3.10/dist-packages (from pydantic>=2.0.0->deepspeed>=0.14.4->alignment-handbook==0.4.0.dev0) (2.23.4)\n",
            "Requirement already satisfied: charset-normalizer<4,>=2 in /usr/local/lib/python3.10/dist-packages (from requests>=2.19.0->evaluate==0.4.0->alignment-handbook==0.4.0.dev0) (3.4.0)\n",
            "Requirement already satisfied: idna<4,>=2.5 in /usr/local/lib/python3.10/dist-packages (from requests>=2.19.0->evaluate==0.4.0->alignment-handbook==0.4.0.dev0) (3.10)\n",
            "Requirement already satisfied: urllib3<3,>=1.21.1 in /usr/local/lib/python3.10/dist-packages (from requests>=2.19.0->evaluate==0.4.0->alignment-handbook==0.4.0.dev0) (2.2.3)\n",
            "Requirement already satisfied: certifi>=2017.4.17 in /usr/local/lib/python3.10/dist-packages (from requests>=2.19.0->evaluate==0.4.0->alignment-handbook==0.4.0.dev0) (2024.8.30)\n",
            "Requirement already satisfied: networkx in /usr/local/lib/python3.10/dist-packages (from torch>=1.10.0->accelerate>=0.29.2->alignment-handbook==0.4.0.dev0) (3.4.2)\n",
            "Requirement already satisfied: sympy==1.13.1 in /usr/local/lib/python3.10/dist-packages (from torch>=1.10.0->accelerate>=0.29.2->alignment-handbook==0.4.0.dev0) (1.13.1)\n",
            "Requirement already satisfied: mpmath<1.4,>=1.1.0 in /usr/local/lib/python3.10/dist-packages (from sympy==1.13.1->torch>=1.10.0->accelerate>=0.29.2->alignment-handbook==0.4.0.dev0) (1.3.0)\n",
            "Requirement already satisfied: python-dateutil>=2.8.2 in /usr/local/lib/python3.10/dist-packages (from pandas->evaluate==0.4.0->alignment-handbook==0.4.0.dev0) (2.8.2)\n",
            "Requirement already satisfied: pytz>=2020.1 in /usr/local/lib/python3.10/dist-packages (from pandas->evaluate==0.4.0->alignment-handbook==0.4.0.dev0) (2024.2)\n",
            "Requirement already satisfied: tzdata>=2022.7 in /usr/local/lib/python3.10/dist-packages (from pandas->evaluate==0.4.0->alignment-handbook==0.4.0.dev0) (2024.2)\n",
            "Requirement already satisfied: markdown-it-py>=2.2.0 in /usr/local/lib/python3.10/dist-packages (from rich->trl>=0.9.6->alignment-handbook==0.4.0.dev0) (3.0.0)\n",
            "Requirement already satisfied: pygments<3.0.0,>=2.13.0 in /usr/local/lib/python3.10/dist-packages (from rich->trl>=0.9.6->alignment-handbook==0.4.0.dev0) (2.18.0)\n",
            "Requirement already satisfied: mdurl~=0.1 in /usr/local/lib/python3.10/dist-packages (from markdown-it-py>=2.2.0->rich->trl>=0.9.6->alignment-handbook==0.4.0.dev0) (0.1.2)\n",
            "Requirement already satisfied: propcache>=0.2.0 in /usr/local/lib/python3.10/dist-packages (from yarl<2.0,>=1.12.0->aiohttp->datasets>=2.18.0->alignment-handbook==0.4.0.dev0) (0.2.0)\n",
            "Building wheels for collected packages: alignment-handbook\n",
            "  Building wheel for alignment-handbook (setup.py) ... \u001b[?25l\u001b[?25hdone\n",
            "  Created wheel for alignment-handbook: filename=alignment_handbook-0.4.0.dev0-py3-none-any.whl size=27988 sha256=d0846de59ba697e37bb7a0f9f8e328ce4bc8ea3f15276a6ee4ada7284d82c101\n",
            "  Stored in directory: /root/.cache/pip/wheels/45/50/ed/f014976ba6dfba87711f35e09e08cdb43f025eabddba41b542\n",
            "Successfully built alignment-handbook\n",
            "Installing collected packages: alignment-handbook\n",
            "  Attempting uninstall: alignment-handbook\n",
            "    Found existing installation: alignment-handbook 0.4.0.dev0\n",
            "    Uninstalling alignment-handbook-0.4.0.dev0:\n",
            "      Successfully uninstalled alignment-handbook-0.4.0.dev0\n",
            "Successfully installed alignment-handbook-0.4.0.dev0\n"
          ]
        }
      ],
      "source": [
        "# Clone the Repository\n",
        "!git clone https://github.com/wsklee/alignment-handbook.git\n",
        "%cd alignment-handbook\n",
        "!python -m pip install ."
      ]
    },
    {
      "cell_type": "code",
      "source": [
        "import torch\n",
        "import random\n",
        "import numpy as np\n",
        "\n",
        "# Set seed for reproducibility\n",
        "seed_value = 42\n",
        "torch.manual_seed(seed_value)\n",
        "random.seed(seed_value)\n",
        "np.random.seed(seed_value)\n",
        "\n",
        "# If GPU is used, set the seed for CUDA as well\n",
        "if torch.cuda.is_available():\n",
        "    torch.cuda.manual_seed_all(seed_value)"
      ],
      "metadata": {
        "id": "6xaNRQ14j5aB"
      },
      "execution_count": 60,
      "outputs": []
    },
    {
      "cell_type": "code",
      "source": [
        "# Load the IMDB dataset\n",
        "from datasets import load_dataset\n",
        "dataset = load_dataset(\"imdb\")\n",
        "train_data = dataset[\"train\"]\n",
        "test_data = dataset[\"test\"]"
      ],
      "metadata": {
        "id": "xwsxSdqckFRE"
      },
      "execution_count": 61,
      "outputs": []
    },
    {
      "cell_type": "code",
      "source": [
        "test_data"
      ],
      "metadata": {
        "colab": {
          "base_uri": "https://localhost:8080/"
        },
        "id": "24CV-mQnkE27",
        "outputId": "69960b67-dac4-4cb3-9678-43f7fad6b74b"
      },
      "execution_count": 62,
      "outputs": [
        {
          "output_type": "execute_result",
          "data": {
            "text/plain": [
              "Dataset({\n",
              "    features: ['text', 'label'],\n",
              "    num_rows: 25000\n",
              "})"
            ]
          },
          "metadata": {},
          "execution_count": 62
        }
      ]
    },
    {
      "cell_type": "code",
      "source": [
        "X_test = test_data[\"text\"]"
      ],
      "metadata": {
        "id": "1jKn0X2LkJJO"
      },
      "execution_count": 63,
      "outputs": []
    },
    {
      "cell_type": "code",
      "source": [
        "y_true = test_data[\"label\"]"
      ],
      "metadata": {
        "id": "4tL-RXUDkI1S"
      },
      "execution_count": 64,
      "outputs": []
    },
    {
      "cell_type": "markdown",
      "source": [
        "## Create smaller train dataset for centroid calculation"
      ],
      "metadata": {
        "id": "FhHGaFa1fH4H"
      }
    },
    {
      "cell_type": "code",
      "source": [
        "from datasets import Dataset\n",
        "\n",
        "# Filter 1000 positive and 1000 negative samples\n",
        "small_positive = train_data.filter(lambda x: x['label'] == 1).shuffle(seed=42).select(range(1000))\n",
        "small_negative = train_data.filter(lambda x: x['label'] == 0).shuffle(seed=42).select(range(1000))\n",
        "\n",
        "# Combine into a smaller dataset\n",
        "small_train_data = Dataset.from_dict({\n",
        "    \"text\": small_positive[\"text\"] + small_negative[\"text\"],\n",
        "    \"label\": small_positive[\"label\"] + small_negative[\"label\"]\n",
        "})"
      ],
      "metadata": {
        "id": "vPMxlEzDfKjN"
      },
      "execution_count": 65,
      "outputs": []
    },
    {
      "cell_type": "code",
      "source": [
        "import numpy as np\n",
        "import pandas as pd\n",
        "import os\n",
        "from tqdm import tqdm\n",
        "from transformers import (AutoModelForCausalLM,\n",
        "                          AutoTokenizer,\n",
        "                          pipeline,\n",
        "                          logging)"
      ],
      "metadata": {
        "id": "63I1lO2PkWqN"
      },
      "execution_count": 66,
      "outputs": []
    },
    {
      "cell_type": "markdown",
      "source": [
        "## Load Custom class: DistilBertCLModel"
      ],
      "metadata": {
        "id": "R6ebeU6UkYAd"
      }
    },
    {
      "cell_type": "code",
      "source": [
        "from transformers import AutoModel\n",
        "from alignment.models.distilbert_cl import DistilBertCLModel  # Custom class\n",
        "\n",
        "model_name = \"wsklee/distilbert-sentiment-imdb-sft-cft\"\n",
        "model = DistilBertCLModel.from_pretrained(model_name)\n",
        "tokenizer = AutoTokenizer.from_pretrained(\"distilbert-base-uncased\")\n",
        "model.eval()"
      ],
      "metadata": {
        "colab": {
          "base_uri": "https://localhost:8080/",
          "height": 619,
          "referenced_widgets": [
            "f324747e45af49f4817cc1cb1c62f3b6",
            "1d66e8a27bf04e4a8b515fed588d7609",
            "96cfccdc3b424d8fa49117e776aa72eb",
            "c1bf5ad515bb4f0dbe2357d093dc2305",
            "1b53b6888a9e478ebe5f4e61d454dea3",
            "713463de7bc040408e22a05b3b8e6865",
            "3939726753c94653baa734a56bc02fc5",
            "4399268932134c2fa2a20e25a873344b",
            "1a54203a538d48d081883523fa35ca8e",
            "59b7c71a381e47fcb171622ff67375a6",
            "efea67da0ff64dd9a971a4d04f96ed68",
            "d944ee0c442840a5b54e62760d032562",
            "c88cf778e1f94979b8b6bd49d7aa30a3",
            "73eb905198424f9ab0b524dee4439301",
            "1a4e2847a6ce47919b705597f6bd64f3",
            "68855da75fdc4d88a6775579daac1c77",
            "ae2b7765e6354fe9aedc4db7b39ec636",
            "18f437f58dd546838ecc10843bd33038",
            "e9d5f2f83b6740deaad44c0c531178b8",
            "c5a9ddc9b22940eb818b028b9a7b22c8",
            "0fcbdd078bb142c4b43782a1432493c1",
            "205ff8d9f97d4f31b55032a57d0f9913"
          ]
        },
        "id": "e0IyL5UekbuQ",
        "outputId": "f7f96a11-1ee4-4bca-d877-fc62eaa5fe4c"
      },
      "execution_count": 67,
      "outputs": [
        {
          "output_type": "display_data",
          "data": {
            "text/plain": [
              "config.json:   0%|          | 0.00/610 [00:00<?, ?B/s]"
            ],
            "application/vnd.jupyter.widget-view+json": {
              "version_major": 2,
              "version_minor": 0,
              "model_id": "f324747e45af49f4817cc1cb1c62f3b6"
            }
          },
          "metadata": {}
        },
        {
          "output_type": "display_data",
          "data": {
            "text/plain": [
              "model.safetensors:   0%|          | 0.00/265M [00:00<?, ?B/s]"
            ],
            "application/vnd.jupyter.widget-view+json": {
              "version_major": 2,
              "version_minor": 0,
              "model_id": "d944ee0c442840a5b54e62760d032562"
            }
          },
          "metadata": {}
        },
        {
          "output_type": "execute_result",
          "data": {
            "text/plain": [
              "DistilBertCLModel(\n",
              "  (distilbert): DistilBertModel(\n",
              "    (embeddings): Embeddings(\n",
              "      (word_embeddings): Embedding(30522, 768, padding_idx=0)\n",
              "      (position_embeddings): Embedding(512, 768)\n",
              "      (LayerNorm): LayerNorm((768,), eps=1e-12, elementwise_affine=True)\n",
              "      (dropout): Dropout(p=0.1, inplace=False)\n",
              "    )\n",
              "    (transformer): Transformer(\n",
              "      (layer): ModuleList(\n",
              "        (0-5): 6 x TransformerBlock(\n",
              "          (attention): DistilBertSdpaAttention(\n",
              "            (dropout): Dropout(p=0.1, inplace=False)\n",
              "            (q_lin): Linear(in_features=768, out_features=768, bias=True)\n",
              "            (k_lin): Linear(in_features=768, out_features=768, bias=True)\n",
              "            (v_lin): Linear(in_features=768, out_features=768, bias=True)\n",
              "            (out_lin): Linear(in_features=768, out_features=768, bias=True)\n",
              "          )\n",
              "          (sa_layer_norm): LayerNorm((768,), eps=1e-12, elementwise_affine=True)\n",
              "          (ffn): FFN(\n",
              "            (dropout): Dropout(p=0.1, inplace=False)\n",
              "            (lin1): Linear(in_features=768, out_features=3072, bias=True)\n",
              "            (lin2): Linear(in_features=3072, out_features=768, bias=True)\n",
              "            (activation): GELUActivation()\n",
              "          )\n",
              "          (output_layer_norm): LayerNorm((768,), eps=1e-12, elementwise_affine=True)\n",
              "        )\n",
              "      )\n",
              "    )\n",
              "  )\n",
              ")"
            ]
          },
          "metadata": {},
          "execution_count": 67
        }
      ]
    },
    {
      "cell_type": "code",
      "source": [
        "# Ensure that the model is moved to the appropriate device\n",
        "device = 'cuda' if torch.cuda.is_available() else 'cpu'\n",
        "model.to(device)"
      ],
      "metadata": {
        "colab": {
          "base_uri": "https://localhost:8080/"
        },
        "id": "EyR-_cb8cC8h",
        "outputId": "cf370329-47e7-4272-eb80-4891204c2a25",
        "collapsed": true
      },
      "execution_count": 68,
      "outputs": [
        {
          "output_type": "execute_result",
          "data": {
            "text/plain": [
              "DistilBertCLModel(\n",
              "  (distilbert): DistilBertModel(\n",
              "    (embeddings): Embeddings(\n",
              "      (word_embeddings): Embedding(30522, 768, padding_idx=0)\n",
              "      (position_embeddings): Embedding(512, 768)\n",
              "      (LayerNorm): LayerNorm((768,), eps=1e-12, elementwise_affine=True)\n",
              "      (dropout): Dropout(p=0.1, inplace=False)\n",
              "    )\n",
              "    (transformer): Transformer(\n",
              "      (layer): ModuleList(\n",
              "        (0-5): 6 x TransformerBlock(\n",
              "          (attention): DistilBertSdpaAttention(\n",
              "            (dropout): Dropout(p=0.1, inplace=False)\n",
              "            (q_lin): Linear(in_features=768, out_features=768, bias=True)\n",
              "            (k_lin): Linear(in_features=768, out_features=768, bias=True)\n",
              "            (v_lin): Linear(in_features=768, out_features=768, bias=True)\n",
              "            (out_lin): Linear(in_features=768, out_features=768, bias=True)\n",
              "          )\n",
              "          (sa_layer_norm): LayerNorm((768,), eps=1e-12, elementwise_affine=True)\n",
              "          (ffn): FFN(\n",
              "            (dropout): Dropout(p=0.1, inplace=False)\n",
              "            (lin1): Linear(in_features=768, out_features=3072, bias=True)\n",
              "            (lin2): Linear(in_features=3072, out_features=768, bias=True)\n",
              "            (activation): GELUActivation()\n",
              "          )\n",
              "          (output_layer_norm): LayerNorm((768,), eps=1e-12, elementwise_affine=True)\n",
              "        )\n",
              "      )\n",
              "    )\n",
              "  )\n",
              ")"
            ]
          },
          "metadata": {},
          "execution_count": 68
        }
      ]
    },
    {
      "cell_type": "markdown",
      "source": [
        "# Calculation of centroids\n",
        "\n",
        "If there is existing centroid value use it, if not calculate it"
      ],
      "metadata": {
        "id": "82hN8ouBK2uv"
      }
    },
    {
      "cell_type": "code",
      "source": [
        "from tqdm import tqdm\n",
        "import torch\n",
        "\n",
        "def calculate_centroids(model, train_data, batch_size=8, device='cuda'):\n",
        "    model.to(device)\n",
        "    model.eval()\n",
        "\n",
        "    positive_centroid = torch.zeros(768, device=device)\n",
        "    negative_centroid = torch.zeros(768, device=device)\n",
        "    positive_count = 0\n",
        "    negative_count = 0\n",
        "\n",
        "    positive_sentences = [ex['text'] for ex in train_data if ex['label'] == 1]\n",
        "    negative_sentences = [ex['text'] for ex in train_data if ex['label'] == 0]\n",
        "\n",
        "    with torch.no_grad():\n",
        "        # Process positive sentences\n",
        "        for i in tqdm(range(0, len(positive_sentences), batch_size), desc=\"Processing positive batches\"):\n",
        "            batch_sentences = positive_sentences[i:i + batch_size]\n",
        "            positive_encodings = tokenizer(batch_sentences, truncation=True, padding=True, return_tensors=\"pt\")\n",
        "\n",
        "            input_ids = positive_encodings['input_ids'].to(device)\n",
        "            attention_mask = positive_encodings['attention_mask'].to(device)\n",
        "\n",
        "            # Get embeddings and accumulate them\n",
        "            embeddings = model.get_embedding(input_ids, attention_mask)\n",
        "            positive_centroid += embeddings.sum(dim=0)\n",
        "            positive_count += embeddings.size(0)\n",
        "\n",
        "            # Move variables to CPU and clear cache\n",
        "            del input_ids, attention_mask, embeddings\n",
        "            torch.cuda.empty_cache()\n",
        "\n",
        "        # Process negative sentences\n",
        "        for i in tqdm(range(0, len(negative_sentences), batch_size), desc=\"Processing negative batches\"):\n",
        "            batch_sentences = negative_sentences[i:i + batch_size]\n",
        "            negative_encodings = tokenizer(batch_sentences, truncation=True, padding=True, return_tensors=\"pt\")\n",
        "\n",
        "            input_ids = negative_encodings['input_ids'].to(device)\n",
        "            attention_mask = negative_encodings['attention_mask'].to(device)\n",
        "\n",
        "            # Get embeddings and accumulate them\n",
        "            embeddings = model.get_embedding(input_ids, attention_mask)\n",
        "            negative_centroid += embeddings.sum(dim=0)\n",
        "            negative_count += embeddings.size(0)\n",
        "\n",
        "            # Move variables to CPU and clear cache\n",
        "            del input_ids, attention_mask, embeddings\n",
        "            torch.cuda.empty_cache()\n",
        "\n",
        "    # Compute the final centroids\n",
        "    positive_centroid /= positive_count\n",
        "    negative_centroid /= negative_count\n",
        "\n",
        "    return positive_centroid, negative_centroid\n"
      ],
      "metadata": {
        "id": "gDrTHZvxLXqG"
      },
      "execution_count": 69,
      "outputs": []
    },
    {
      "cell_type": "code",
      "source": [
        "import os\n",
        "import torch\n",
        "\n",
        "centroids_path = 'centroids.pth'\n",
        "\n",
        "positive_centroid = None\n",
        "negative_centroid = None\n",
        "\n",
        "if os.path.exists(centroids_path):\n",
        "    # Load the existing centroids\n",
        "    centroids = torch.load(centroids_path)\n",
        "    positive_centroid = centroids['positive_centroid']\n",
        "    negative_centroid = centroids['negative_centroid']\n",
        "    print(\"Loaded existing centroids.\")\n",
        "else:\n",
        "    # Calculate new centroids if the file does not exist\n",
        "    positive_centroid, negative_centroid = calculate_centroids(model, small_train_data, batch_size=2, device=device)\n",
        "    print(\"Calculated new centroids.\")\n",
        "\n",
        "    # Save the centroids\n",
        "    torch.save({\n",
        "        'positive_centroid': positive_centroid,\n",
        "        'negative_centroid': negative_centroid\n",
        "    }, centroids_path)\n",
        "    print(\"Saved new centroids.\")\n",
        "\n",
        "# Centroid shapes\n",
        "print(f\"Positive Centroid Shape: {positive_centroid.shape}\")\n",
        "print(f\"Negative Centroid Shape: {negative_centroid.shape}\")\n"
      ],
      "metadata": {
        "id": "g8xwRQOj2urC",
        "colab": {
          "base_uri": "https://localhost:8080/"
        },
        "outputId": "c7e33cc0-ed7b-40cc-d565-f0360447939d"
      },
      "execution_count": 70,
      "outputs": [
        {
          "output_type": "stream",
          "name": "stderr",
          "text": [
            "Processing positive batches: 100%|██████████| 500/500 [00:15<00:00, 31.69it/s]\n",
            "Processing negative batches: 100%|██████████| 500/500 [00:15<00:00, 33.31it/s]"
          ]
        },
        {
          "output_type": "stream",
          "name": "stdout",
          "text": [
            "Calculated new centroids.\n",
            "Saved new centroids.\n",
            "Positive Centroid Shape: torch.Size([768])\n",
            "Negative Centroid Shape: torch.Size([768])\n"
          ]
        },
        {
          "output_type": "stream",
          "name": "stderr",
          "text": [
            "\n"
          ]
        }
      ]
    },
    {
      "cell_type": "code",
      "source": [
        "print(negative_centroid)"
      ],
      "metadata": {
        "colab": {
          "base_uri": "https://localhost:8080/"
        },
        "collapsed": true,
        "id": "S-CfmVmEjhC8",
        "outputId": "928a6445-7656-4938-e097-6eaf7a2d3618"
      },
      "execution_count": 71,
      "outputs": [
        {
          "output_type": "stream",
          "name": "stdout",
          "text": [
            "tensor([ 4.3672e-02,  3.0095e-01, -6.3735e-01, -3.2780e-01,  6.5407e-02,\n",
            "        -1.5481e-01,  5.9975e-01, -1.5350e-02, -2.1214e-01,  2.4663e-02,\n",
            "        -7.1075e-01, -4.1093e-01, -4.1983e-01,  6.7573e-01, -2.9853e-01,\n",
            "         6.6122e-02,  3.4857e-01,  2.1945e-01, -5.0165e-01,  4.2773e-02,\n",
            "        -1.7220e-01,  3.2676e-01, -3.3906e-01,  6.3124e-01, -6.6818e-01,\n",
            "        -1.4165e-01,  3.7444e-01,  4.2667e-01, -6.5341e-01, -2.3434e-01,\n",
            "         1.3438e-02, -1.5603e-01,  3.6670e-01, -1.5577e-01, -1.7322e-02,\n",
            "        -4.7269e-02, -7.9037e-01, -1.5919e-01, -2.8011e-01,  2.6997e-01,\n",
            "        -2.2315e-01, -2.0017e-01,  6.5705e-02,  8.8200e-01,  5.0926e-01,\n",
            "        -2.4922e-01, -2.2667e+00,  3.4596e-01,  1.3593e-01,  1.4436e-01,\n",
            "         1.1462e-02,  3.9647e-01,  4.2943e-01,  6.5910e-01,  7.8862e-01,\n",
            "         1.7488e-01, -1.8386e-01, -6.8935e-01,  2.3078e-01,  3.6358e-02,\n",
            "         1.2213e-01,  1.5300e-01, -3.2742e-01, -5.1904e-01, -3.2555e-01,\n",
            "        -1.3844e-01, -1.3166e-01,  8.2815e-01, -4.6977e-01, -3.9677e-01,\n",
            "         6.6722e-02, -4.5652e-01, -4.2212e-02, -3.8977e-01,  3.5539e-02,\n",
            "        -4.3080e-01,  1.8498e-01,  5.5783e-01,  2.2862e-01, -1.3598e-01,\n",
            "         4.1185e-01,  5.5472e-01,  6.7585e-02,  2.0277e-01, -8.8884e-02,\n",
            "         1.3419e-02, -1.0316e-01,  2.2953e-01,  1.2985e-01, -4.3976e-02,\n",
            "        -4.8034e-01,  4.8692e-02, -1.0347e-01,  3.9096e-01,  2.5471e-01,\n",
            "         7.4217e-02,  1.3684e-01, -1.9131e-01,  4.2432e-02, -2.3504e-02,\n",
            "        -4.4082e-01, -2.2338e-01,  6.5218e-01,  4.7367e-01, -1.8458e-01,\n",
            "        -3.5947e-01, -1.0837e-01, -3.2089e-01,  1.2939e-01, -4.0419e-01,\n",
            "         1.6387e-01,  9.8623e-01, -1.1121e-01, -8.1338e-01, -9.0519e-01,\n",
            "         4.9545e-01, -3.3219e-01, -8.6953e-01, -2.0215e-01, -1.1083e-01,\n",
            "         3.5040e-01,  1.9880e-01, -6.3957e-02,  7.0794e-01,  1.4770e-01,\n",
            "         2.6929e-02, -1.1142e-02,  3.7561e-01, -7.3409e-02,  3.7277e-01,\n",
            "        -5.2583e-02,  7.4436e-01, -1.3286e-01, -3.2827e-01, -2.2422e-01,\n",
            "        -1.3383e-01,  3.5419e-01, -2.9274e-01,  2.6275e-02,  2.1943e-01,\n",
            "         7.6847e-02, -8.7924e-01, -9.0971e-01,  3.3792e-01,  1.1826e+00,\n",
            "         3.1088e-01,  5.7039e-02, -4.9017e-01, -2.8815e-01,  3.1338e-01,\n",
            "         1.2144e-01,  1.2416e-01, -3.7148e-01, -2.1816e-01, -4.6160e-02,\n",
            "         3.9531e-01,  6.6267e-01, -2.9501e-01,  4.2614e-01,  3.7339e-01,\n",
            "         6.8760e-01, -4.4287e-01, -7.9979e-01,  1.5088e-01,  5.4957e-01,\n",
            "         1.6222e-01, -1.1082e-01,  5.4308e-01, -1.5106e-01, -1.9471e-01,\n",
            "         1.0388e-01, -6.3454e-01,  9.1394e-01, -1.9694e-01, -5.0141e-01,\n",
            "        -5.3612e-02,  7.6945e-01, -2.4220e-02,  4.6223e-01,  2.0875e-01,\n",
            "        -1.4119e+00, -3.0182e-02,  1.2784e-01,  2.1102e-01, -3.3821e-01,\n",
            "        -1.1730e-01,  6.7048e-01, -5.5901e-01,  3.8784e-01,  3.0913e-01,\n",
            "        -5.2293e-01, -2.8790e-01, -2.3352e-01,  2.1042e-01,  1.0369e+00,\n",
            "        -2.7104e-01, -8.4288e-01, -1.0102e+00,  1.2225e-01,  5.5979e-01,\n",
            "        -3.8924e-01, -1.9533e-01,  1.2773e-01, -4.5404e-02,  7.6205e-02,\n",
            "         1.2095e+00, -4.0351e-02, -1.1119e-01, -3.5981e-01,  9.4063e-01,\n",
            "        -9.0825e-01,  1.3834e-01, -2.9128e-02,  1.3885e-01,  2.4631e-01,\n",
            "        -1.2664e-01, -9.6499e-02, -2.8249e-01,  2.1512e-02, -1.6126e-01,\n",
            "        -4.0158e-02,  3.9812e-01, -3.4380e-01,  3.4572e-01, -7.3394e-02,\n",
            "         5.4184e-01,  8.4949e-01,  3.7329e-01,  2.1441e-01, -1.3191e+00,\n",
            "         3.7247e-01,  7.2115e-01, -7.3302e-02,  7.8406e-02, -1.0037e+00,\n",
            "        -1.7812e-03,  6.0168e-01, -2.5831e-01, -2.1658e-02,  7.3650e-02,\n",
            "         7.6466e-02,  9.0585e-01, -3.6792e-01,  3.8389e-01, -2.9871e-01,\n",
            "        -5.4016e-02,  4.7534e-02, -7.6706e-02, -4.1287e-01, -3.2897e-01,\n",
            "         4.8075e-01, -2.0240e-01,  4.9824e-01, -3.4743e-01,  9.5275e-02,\n",
            "         2.6056e-01, -2.3685e-01,  2.4409e-02,  4.1667e-01, -9.1872e-03,\n",
            "         2.1923e-01,  3.1311e-01, -1.7643e-01,  5.6205e-02, -6.8555e-01,\n",
            "         1.5315e-01, -5.0732e-01, -7.9882e-02,  9.6216e-02,  3.8541e-01,\n",
            "         4.3237e-01, -7.5780e-02, -8.2905e-01, -3.4215e-01,  4.6209e-01,\n",
            "        -2.0635e-01, -2.8563e-01,  4.2974e-01, -3.2858e-01,  1.0996e-01,\n",
            "         4.2255e-01,  5.3117e-01, -7.0072e-01,  1.2458e-01,  8.1607e-02,\n",
            "        -2.5279e-01, -1.3193e-01, -3.8941e-01,  8.8109e-01, -4.8819e-01,\n",
            "        -5.5886e-01, -3.5381e-02, -7.0132e-01, -8.7920e-02,  2.0496e-01,\n",
            "         4.1262e-01,  5.5725e-01, -2.9919e-01,  6.9050e-01,  1.5923e-01,\n",
            "        -6.0772e-01,  5.4967e-01, -5.1688e-01, -4.8125e-02, -4.5197e-01,\n",
            "        -2.4315e-01, -6.2882e-01, -5.6222e-01, -2.3914e+00,  1.9195e-01,\n",
            "        -3.0216e-01, -6.2364e-02, -3.3091e-02,  2.6464e-01,  1.8601e-01,\n",
            "        -4.3210e-01,  6.6947e-02,  4.0618e-02, -3.4855e-02, -9.4521e-01,\n",
            "        -2.6995e-01,  2.5690e-01,  2.4028e-01, -2.9549e-02,  5.6947e-02,\n",
            "        -4.8461e-01, -5.0067e-01,  5.1891e-01,  2.0764e-01, -3.2913e-02,\n",
            "         3.8701e-02,  1.4601e-01,  6.8462e-01,  2.0931e-01,  7.8754e-02,\n",
            "        -1.0042e-01, -2.3954e-01, -2.5214e-01, -2.9513e-01, -1.6636e-01,\n",
            "        -2.2779e-02,  1.0979e-01, -5.0139e-01,  2.7189e-01,  1.1067e-01,\n",
            "         1.9497e-03,  3.9190e-02, -1.1470e-01,  3.8868e-02,  1.6671e-01,\n",
            "        -4.7179e-01, -4.5642e-02,  1.2563e+00,  6.8151e-01, -5.4320e-01,\n",
            "        -3.0722e-01, -3.6891e-01, -2.4723e-02,  4.0738e-01, -4.6848e-01,\n",
            "         3.2008e-01,  3.6609e-01, -2.9150e-01, -5.1026e-01,  5.8161e-01,\n",
            "         3.8526e-01, -6.9334e-01, -5.2107e-01,  3.3648e-01, -8.5549e-02,\n",
            "        -4.6947e-01,  1.5098e-01,  2.8089e-02, -6.5296e-01,  4.6210e-02,\n",
            "        -6.3764e-01,  8.0222e-01, -5.8092e-01,  1.9605e-01,  1.9086e-01,\n",
            "        -3.8885e-01, -1.4074e-01, -3.7710e-02, -1.2941e+00,  6.9727e-01,\n",
            "        -5.8572e-01, -3.4063e-01,  2.5887e-01, -9.8069e-01, -2.7423e-01,\n",
            "        -2.3065e-01, -6.5466e-02,  6.0602e-02, -1.0784e-01, -7.9254e-01,\n",
            "         1.9126e-01, -1.1352e-01, -4.6817e-01,  2.9279e-01, -1.3696e-01,\n",
            "         4.9293e-01,  4.2364e-01, -7.5009e-02,  2.6832e-01,  3.9647e-01,\n",
            "        -1.9939e-01,  2.4636e-01, -8.4635e-02, -2.7249e-01, -3.6855e-01,\n",
            "         7.9697e-02, -5.8933e-01, -5.9830e-01, -2.1514e-01, -3.4241e-01,\n",
            "         1.5005e-01, -1.0227e-01,  1.5930e-01, -7.9680e-02, -3.1087e-01,\n",
            "         3.0518e-01, -5.3754e-01,  5.7434e-01,  1.9952e-01,  1.4833e-01,\n",
            "         9.4645e-01, -7.4284e-02, -1.3967e-01,  3.5657e-01,  1.2840e-01,\n",
            "        -4.7496e-01, -5.5033e-01,  3.3138e-01, -2.3762e-01, -2.4426e-01,\n",
            "         1.1518e-01,  6.1766e-01, -1.2798e-01, -1.7594e-01,  3.2939e-01,\n",
            "        -2.0449e-01,  1.1676e-01,  2.4454e-01, -3.7676e-01, -4.5248e-01,\n",
            "        -1.7998e-01,  4.1216e-01,  5.2347e-02,  7.1783e-01, -3.8696e-02,\n",
            "        -3.9139e-02, -1.3056e-01, -3.2652e-01,  3.0399e-01,  7.8662e-02,\n",
            "        -1.8083e-01,  3.9267e-01, -1.2314e-01, -1.0524e-01,  4.0416e-01,\n",
            "         6.2421e-02, -7.8317e-02,  1.7993e-02, -7.7808e-02,  1.1752e-01,\n",
            "        -8.5308e-02,  3.0849e-01, -8.6797e-02,  1.4436e-01,  3.4621e-01,\n",
            "        -1.2605e+00,  2.2667e-02, -1.5511e-01, -3.9187e-01, -2.3471e-01,\n",
            "        -2.3424e-03, -8.5465e-01,  2.4745e-01,  3.4946e-03,  6.1592e-02,\n",
            "         1.5100e-02,  2.4908e-01, -4.8632e-02, -1.1410e-01, -1.1986e-01,\n",
            "        -8.2979e-02, -1.0898e-02,  2.2586e-01, -4.0655e-01,  7.7261e-02,\n",
            "        -2.0654e-01,  7.0706e-02,  3.2135e-01, -8.7014e-02,  1.1769e-01,\n",
            "         8.9607e-02,  1.7442e-01,  3.5843e-01,  4.8908e-01, -1.6854e-01,\n",
            "         2.2193e-01, -1.5792e-02, -3.7918e-01, -7.7471e-01, -5.7796e-02,\n",
            "         2.7896e-01, -4.4809e-01,  9.2236e-02, -3.5854e-01, -1.7096e-01,\n",
            "         3.7007e-01,  2.9515e-01,  5.8258e-01, -2.1579e-01,  2.7270e-01,\n",
            "        -8.0737e-02,  3.2058e-01,  3.8751e-01, -5.2856e-01, -4.9674e-01,\n",
            "        -9.0142e-02, -5.1125e-01, -2.8931e-01,  4.2873e-02,  3.0508e-01,\n",
            "        -2.6120e-01, -2.5248e-01,  4.0834e-01, -9.5755e-01,  3.4243e-01,\n",
            "        -2.0945e-01, -4.8108e-02, -7.9848e-01,  1.1440e-01, -5.1741e-01,\n",
            "        -7.6409e-01,  2.6775e-01, -3.3582e-01,  6.1774e-01,  1.6442e-01,\n",
            "        -2.1307e-01,  2.1594e-01,  8.3178e-01, -6.5992e-02, -4.2901e-01,\n",
            "         4.3463e-01,  9.8652e-02,  4.4372e-01,  2.4275e-01,  2.0294e-01,\n",
            "        -1.6509e-01, -2.8506e-01, -2.6492e-01,  5.3457e-01,  6.9994e-02,\n",
            "        -3.9056e-01, -2.2928e-01, -1.0115e-01,  2.7826e-01,  3.5308e-01,\n",
            "        -1.8444e-01,  9.1038e-02, -3.7270e-01, -5.4577e-01, -1.6989e-01,\n",
            "        -8.2335e-02, -2.8081e-01, -4.1978e-02,  3.2240e-01,  4.9348e-01,\n",
            "         1.1637e-01,  3.6207e-01,  1.2634e-01,  8.6923e-01,  2.7482e-01,\n",
            "         5.8827e-01,  2.6127e-01,  1.3002e-01, -3.3875e-02, -3.7519e-01,\n",
            "        -4.0021e-01, -1.8106e-04, -9.4625e-01,  2.0823e-01, -1.5328e-01,\n",
            "        -8.4546e-01, -2.5573e-01,  5.9864e-03,  3.6300e-01,  1.5083e-01,\n",
            "        -1.9340e-04,  2.5634e-02,  7.2941e-01, -7.2167e-01,  3.3517e-01,\n",
            "         5.9182e-02,  1.4351e-01, -1.1829e-01, -2.0365e-01,  4.9327e-01,\n",
            "         5.0069e-02, -1.2592e-01,  1.7667e-01,  4.0212e-01,  2.8635e-01,\n",
            "         7.2131e-01, -7.8096e-01, -3.2720e-01, -1.2288e-01,  2.0563e-02,\n",
            "         9.6371e-01,  1.8081e-01, -1.2703e-01,  7.0379e-02, -5.3699e-01,\n",
            "        -4.5710e-01, -2.7656e-02,  2.0189e-01, -1.4702e-01, -6.7767e-01,\n",
            "         1.6284e-01,  3.2531e-01, -5.5185e-01,  4.1615e-01,  5.3108e-02,\n",
            "        -1.4717e-01,  1.5366e-01, -6.9497e-01,  5.7602e-01, -6.5481e-01,\n",
            "         1.0925e-01, -9.1503e-02,  1.2788e-01,  4.5147e-01,  8.5491e-02,\n",
            "        -2.1504e-01,  7.0005e-01,  4.3745e-01,  7.5103e-01, -3.5786e-01,\n",
            "         1.5184e-02,  1.1522e-01, -5.8935e-01, -6.1333e-01,  3.1569e-01,\n",
            "        -1.4965e-01, -3.5202e-01, -1.8736e-01,  1.8719e-01,  4.9089e-01,\n",
            "         5.3182e-01,  1.1401e-01,  2.3526e-01,  8.3072e-01, -7.4227e-02,\n",
            "        -3.8519e-01,  4.6656e-02,  4.3377e-01, -2.6776e-01,  7.6026e-02,\n",
            "         2.8836e-02,  2.2647e-01,  4.1532e-02,  2.6175e-01,  8.6326e-01,\n",
            "         6.8083e-02,  1.1377e-01, -4.7359e-01,  3.7750e-01,  7.4574e-01,\n",
            "         7.2962e-01, -1.4327e-01,  3.4355e-01,  5.2653e-02,  1.6251e-01,\n",
            "        -6.2826e-03, -3.5702e-01, -8.0474e-03,  2.8040e-01,  3.0941e-02,\n",
            "        -4.4805e-01, -6.1867e-02, -3.5407e-01,  1.6528e-01,  1.4792e-01,\n",
            "         2.4495e-01, -2.3164e-01,  3.0792e-02, -4.4214e-01, -1.8673e-01,\n",
            "        -9.3991e-01, -3.2028e-01, -5.8350e-01, -8.7579e-01,  5.2487e-01,\n",
            "        -8.6888e-02,  1.5307e-02,  6.6939e-02,  3.3317e-01, -2.3399e-01,\n",
            "        -2.1428e-02,  5.3406e-01, -2.8996e-01, -1.9948e-01,  2.4910e-01,\n",
            "        -2.3799e-01,  5.7010e-01,  8.9765e-01,  7.2950e-01, -2.3958e-01,\n",
            "        -1.1488e-01,  2.8112e-01, -4.4583e-01,  4.8303e-01, -6.4044e-01,\n",
            "        -8.0170e-01,  1.8149e-01, -2.5105e-01,  1.9635e-01,  1.3677e-01,\n",
            "        -6.6885e-01,  1.8087e-01,  5.6922e-01,  5.6060e-01, -1.2885e-02,\n",
            "         1.1826e-01, -6.4706e-01, -1.0384e-01, -3.3814e-01, -4.8925e-01,\n",
            "        -5.6658e-03,  3.4209e-01, -3.6167e-01, -1.1579e-01,  9.7266e-01,\n",
            "        -5.5424e-03, -2.3641e-01, -3.3070e-02, -5.3964e-01,  7.3396e-01,\n",
            "        -4.1554e-01,  6.9375e-01,  5.8623e-02, -7.3755e-01,  7.5649e-01,\n",
            "         8.9103e-01, -2.5440e-01, -5.0998e-01, -5.4222e-02, -5.6653e-02,\n",
            "        -4.4891e-01,  4.5196e-02, -1.1891e+00,  2.1715e-02, -6.8964e-03,\n",
            "        -2.1101e-01,  3.8476e-01, -2.6883e-02, -2.0197e-01, -5.4715e-03,\n",
            "        -1.3725e-01, -1.8009e-02,  4.2555e-01,  3.5288e-01, -2.9480e-01,\n",
            "        -2.2114e-01,  8.1387e-02, -1.5731e-01], device='cuda:0')\n"
          ]
        }
      ]
    },
    {
      "cell_type": "markdown",
      "source": [
        "# Create DistilLBERTCL-Inference Model\n",
        "Since pretrained DistilBERTCL model accepts pairs of sentences as input, we need DistilBERTCL-Inference that accepts one sentence only for inference"
      ],
      "metadata": {
        "id": "H3b82hoBLqzS"
      }
    },
    {
      "cell_type": "code",
      "source": [
        "import torch\n",
        "from transformers import DistilBertModel, DistilBertPreTrainedModel\n",
        "from transformers.modeling_outputs import SequenceClassifierOutput\n",
        "from dataclasses import dataclass\n",
        "from typing import Optional\n",
        "from alignment.models.distilbert_cl import DistilBertCLModel\n",
        "\n",
        "\n",
        "class DistilBertCLInferenceModel(DistilBertCLModel):\n",
        "    def __init__(self, config):\n",
        "        super().__init__(config)\n",
        "        # Initialize the centroids with the correct dimensions (768)\n",
        "        self.positive_centroid = torch.zeros(768).cuda()  # Move to GPU\n",
        "        self.negative_centroid = torch.zeros(768).cuda()\n",
        "\n",
        "    def forward(self, input_ids=None, attention_mask=None, return_dict=True):\n",
        "        # Single sentence input here, no pairs.\n",
        "        # print(\"\\nDEBUG - DistilBertCLInferenceModel forward pass\")\n",
        "\n",
        "        # Get embedding for the input sentence\n",
        "        sent_embed = self.get_embedding(input_ids, attention_mask)\n",
        "\n",
        "        # Ensure the centroids and embeddings are on the same device\n",
        "        device = sent_embed.device\n",
        "        self.positive_centroid = self.positive_centroid.to(device)  # Move positive centroid to the same device\n",
        "        self.negative_centroid = self.negative_centroid.to(device)  # Move negative centroid to the same device\n",
        "\n",
        "        # Return logits directly\n",
        "        logits = self.classify_sentiment(sent_embed)\n",
        "\n",
        "        if not return_dict:\n",
        "            return logits\n",
        "\n",
        "        return SequenceClassifierOutput(\n",
        "            logits=logits\n",
        "        )\n",
        "\n",
        "    def classify_sentiment(self, embedding):\n",
        "        # Set during initialization or externally\n",
        "        positive_centroid = self.positive_centroid\n",
        "        negative_centroid = self.negative_centroid\n",
        "\n",
        "\n",
        "        # Compute cosine similarity between input embedding and centroids\n",
        "        positive_similarity = torch.cosine_similarity(embedding, positive_centroid)\n",
        "        negative_similarity = torch.cosine_similarity(embedding, negative_centroid)\n",
        "\n",
        "        # Get the predicted class based on comparing the similarities (higher similarity -> closer to centroid)\n",
        "        # print(f\"Positive similarity: {positive_similarity.item()}\")\n",
        "        # print(f\"Negative similarity: {negative_similarity.item()}\")\n",
        "\n",
        "        # Return a tensor with both similarities as logits for pipeline compatibility\n",
        "        return torch.tensor([negative_similarity, positive_similarity]).unsqueeze(0).to(embedding.device)\n",
        "\n",
        "    def set_centroids(self, positive_centroid, negative_centroid):\n",
        "        self.positive_centroid = positive_centroid\n",
        "        self.negative_centroid = negative_centroid\n"
      ],
      "metadata": {
        "id": "5c6_nVW-Luvz"
      },
      "execution_count": 72,
      "outputs": []
    },
    {
      "cell_type": "code",
      "source": [
        "from transformers import AutoModelForSequenceClassification\n",
        "\n",
        "inference_model = DistilBertCLInferenceModel.from_pretrained(model_name)\n",
        "inference_model.eval()\n",
        "\n",
        "# Set the centroids in the inference model\n",
        "inference_model.set_centroids(positive_centroid, negative_centroid)"
      ],
      "metadata": {
        "id": "vP3iY2ajNU7k"
      },
      "execution_count": 73,
      "outputs": []
    },
    {
      "cell_type": "markdown",
      "source": [
        "# Sample prediction with custom text"
      ],
      "metadata": {
        "id": "1IRvhK7yMIPA"
      }
    },
    {
      "cell_type": "code",
      "source": [
        "from transformers import (AutoModelForCausalLM,\n",
        "                          AutoTokenizer,\n",
        "                          pipeline)\n",
        "\n",
        "tokenizer = AutoTokenizer.from_pretrained(\"distilbert-base-uncased\")\n",
        "\n",
        "# Load model and tokenizer using the pipeline\n",
        "pipe = pipeline(task=\"text-classification\", model=inference_model, tokenizer=tokenizer, framework=\"pt\", device=0)\n",
        "\n",
        "# Sample texts for inference\n",
        "texts = [\n",
        "    \"The movie was absolutely fantastic!\",\n",
        "    \"I didn't enjoy the film; it was quite boring.\",\n",
        "    \"An average experience, nothing special or memorable.\"\n",
        "]\n",
        "\n",
        "# Perform inference\n",
        "# LABEL_0 for negative, LABEL_1 for positive\n",
        "results = pipe(texts)\n",
        "for text, result in zip(texts, results):\n",
        "    print(f\"Input: {text}\")\n",
        "    print(f\"Output: {result}\\n\")"
      ],
      "metadata": {
        "id": "yQZYzVJqmiSp",
        "colab": {
          "base_uri": "https://localhost:8080/"
        },
        "outputId": "e7000752-039d-4d35-d05f-c2b1a1b89d42"
      },
      "execution_count": 74,
      "outputs": [
        {
          "output_type": "stream",
          "name": "stderr",
          "text": [
            "The model 'DistilBertCLInferenceModel' is not supported for text-classification. Supported models are ['AlbertForSequenceClassification', 'BartForSequenceClassification', 'BertForSequenceClassification', 'BigBirdForSequenceClassification', 'BigBirdPegasusForSequenceClassification', 'BioGptForSequenceClassification', 'BloomForSequenceClassification', 'CamembertForSequenceClassification', 'CanineForSequenceClassification', 'LlamaForSequenceClassification', 'ConvBertForSequenceClassification', 'CTRLForSequenceClassification', 'Data2VecTextForSequenceClassification', 'DebertaForSequenceClassification', 'DebertaV2ForSequenceClassification', 'DistilBertForSequenceClassification', 'ElectraForSequenceClassification', 'ErnieForSequenceClassification', 'ErnieMForSequenceClassification', 'EsmForSequenceClassification', 'FalconForSequenceClassification', 'FlaubertForSequenceClassification', 'FNetForSequenceClassification', 'FunnelForSequenceClassification', 'GemmaForSequenceClassification', 'Gemma2ForSequenceClassification', 'GlmForSequenceClassification', 'GPT2ForSequenceClassification', 'GPT2ForSequenceClassification', 'GPTBigCodeForSequenceClassification', 'GPTNeoForSequenceClassification', 'GPTNeoXForSequenceClassification', 'GPTJForSequenceClassification', 'IBertForSequenceClassification', 'JambaForSequenceClassification', 'JetMoeForSequenceClassification', 'LayoutLMForSequenceClassification', 'LayoutLMv2ForSequenceClassification', 'LayoutLMv3ForSequenceClassification', 'LEDForSequenceClassification', 'LiltForSequenceClassification', 'LlamaForSequenceClassification', 'LongformerForSequenceClassification', 'LukeForSequenceClassification', 'MarkupLMForSequenceClassification', 'MBartForSequenceClassification', 'MegaForSequenceClassification', 'MegatronBertForSequenceClassification', 'MistralForSequenceClassification', 'MixtralForSequenceClassification', 'MobileBertForSequenceClassification', 'MPNetForSequenceClassification', 'MptForSequenceClassification', 'MraForSequenceClassification', 'MT5ForSequenceClassification', 'MvpForSequenceClassification', 'NemotronForSequenceClassification', 'NezhaForSequenceClassification', 'NystromformerForSequenceClassification', 'OpenLlamaForSequenceClassification', 'OpenAIGPTForSequenceClassification', 'OPTForSequenceClassification', 'PerceiverForSequenceClassification', 'PersimmonForSequenceClassification', 'PhiForSequenceClassification', 'Phi3ForSequenceClassification', 'PhimoeForSequenceClassification', 'PLBartForSequenceClassification', 'QDQBertForSequenceClassification', 'Qwen2ForSequenceClassification', 'Qwen2MoeForSequenceClassification', 'ReformerForSequenceClassification', 'RemBertForSequenceClassification', 'RobertaForSequenceClassification', 'RobertaPreLayerNormForSequenceClassification', 'RoCBertForSequenceClassification', 'RoFormerForSequenceClassification', 'SqueezeBertForSequenceClassification', 'StableLmForSequenceClassification', 'Starcoder2ForSequenceClassification', 'T5ForSequenceClassification', 'TapasForSequenceClassification', 'TransfoXLForSequenceClassification', 'UMT5ForSequenceClassification', 'XLMForSequenceClassification', 'XLMRobertaForSequenceClassification', 'XLMRobertaXLForSequenceClassification', 'XLNetForSequenceClassification', 'XmodForSequenceClassification', 'YosoForSequenceClassification', 'ZambaForSequenceClassification'].\n"
          ]
        },
        {
          "output_type": "stream",
          "name": "stdout",
          "text": [
            "Input: The movie was absolutely fantastic!\n",
            "Output: {'label': 'LABEL_1', 'score': 0.7010682225227356}\n",
            "\n",
            "Input: I didn't enjoy the film; it was quite boring.\n",
            "Output: {'label': 'LABEL_0', 'score': 0.7174751162528992}\n",
            "\n",
            "Input: An average experience, nothing special or memorable.\n",
            "Output: {'label': 'LABEL_0', 'score': 0.6645347476005554}\n",
            "\n"
          ]
        }
      ]
    },
    {
      "cell_type": "markdown",
      "source": [
        "# Prediction with test data"
      ],
      "metadata": {
        "id": "MaWBemUNLYsQ"
      }
    },
    {
      "cell_type": "code",
      "source": [
        "from transformers import pipeline\n",
        "from tqdm import tqdm\n",
        "\n",
        "def predict(test, model, adapter, batch_size=16):\n",
        "    y_pred = []\n",
        "\n",
        "    pipe = pipeline(task=\"text-classification\", model=model, tokenizer=tokenizer, framework=\"pt\", device=0)\n",
        "\n",
        "    for i in tqdm(range(0, len(test), batch_size)):\n",
        "        batch = test[i:i+batch_size]\n",
        "        results = pipe(batch, truncation=True)\n",
        "\n",
        "        for result in results:\n",
        "            standardized_label = adapter(result)\n",
        "            y_pred.append(standardized_label)\n",
        "\n",
        "    return y_pred\n"
      ],
      "metadata": {
        "id": "GUVpAYX0lj-u"
      },
      "execution_count": 75,
      "outputs": []
    },
    {
      "cell_type": "code",
      "source": [
        "import numpy as np\n",
        "from sklearn.metrics import accuracy_score, classification_report, confusion_matrix\n",
        "from collections import Counter\n",
        "\n",
        "def evaluate_binary(y_true, y_pred):\n",
        "    # Use binary mapping\n",
        "    mapping = {'positive': 1, 'negative': 0}\n",
        "\n",
        "    # Convert y_true and y_pred based on binary mapping\n",
        "    y_true_binary = [0 if label == 0 else 1 for label in y_true]  # IMDB labels are 0 and 1\n",
        "    y_pred_binary = [mapping[label] if label in mapping else 0 for label in y_pred]\n",
        "\n",
        "    # Calculate overall accuracy\n",
        "    accuracy = accuracy_score(y_true=y_true_binary, y_pred=y_pred_binary)\n",
        "    print(f\"Binary Accuracy: {accuracy:.3f}\")\n",
        "\n",
        "    print(\"\\nBinary Classification Report:\")\n",
        "    print(classification_report(y_true=y_true_binary, y_pred=y_pred_binary, target_names=['negative', 'positive']))\n",
        "\n",
        "    print(\"\\nBinary Confusion Matrix:\")\n",
        "    print(confusion_matrix(y_true=y_true_binary, y_pred=y_pred_binary))\n",
        "\n",
        "\n"
      ],
      "metadata": {
        "id": "kbpu5LMKmQvJ"
      },
      "execution_count": 76,
      "outputs": []
    },
    {
      "cell_type": "code",
      "source": [
        "# Adapter for ('LABEL_0'/'LABEL_1')\n",
        "def adapter_model_numeric(output):\n",
        "    if output['label'] == 'LABEL_1':\n",
        "        return 'positive'\n",
        "    elif output['label'] == 'LABEL_0':\n",
        "        return 'negative'\n",
        "    else:\n",
        "        return 'none'\n",
        "\n",
        "# Adapter for ('POSITIVE'/'NEGATIVE'/'NEUTRAL')\n",
        "def adapter_model_text(output):\n",
        "    label = output['label'].lower()\n",
        "    if \"positive\" in label:\n",
        "        return 'positive'\n",
        "    elif \"negative\" in label:\n",
        "        return 'negative'\n",
        "    elif \"neutral\" in label:\n",
        "        return 'neutral'\n",
        "    else:\n",
        "        return 'none'"
      ],
      "metadata": {
        "id": "VqxNrS-5mS1_"
      },
      "execution_count": 77,
      "outputs": []
    },
    {
      "cell_type": "markdown",
      "source": [
        "# Evaluation"
      ],
      "metadata": {
        "id": "VkQECq2lmYbq"
      }
    },
    {
      "cell_type": "code",
      "source": [
        "y_pred = predict(X_test, inference_model, adapter_model_numeric, batch_size=16)"
      ],
      "metadata": {
        "id": "TxKh8uGrmaAb",
        "colab": {
          "base_uri": "https://localhost:8080/"
        },
        "outputId": "191d8d43-da6c-4b8f-e676-4c7b7e159e0b",
        "collapsed": true
      },
      "execution_count": 78,
      "outputs": [
        {
          "output_type": "stream",
          "name": "stderr",
          "text": [
            "The model 'DistilBertCLInferenceModel' is not supported for text-classification. Supported models are ['AlbertForSequenceClassification', 'BartForSequenceClassification', 'BertForSequenceClassification', 'BigBirdForSequenceClassification', 'BigBirdPegasusForSequenceClassification', 'BioGptForSequenceClassification', 'BloomForSequenceClassification', 'CamembertForSequenceClassification', 'CanineForSequenceClassification', 'LlamaForSequenceClassification', 'ConvBertForSequenceClassification', 'CTRLForSequenceClassification', 'Data2VecTextForSequenceClassification', 'DebertaForSequenceClassification', 'DebertaV2ForSequenceClassification', 'DistilBertForSequenceClassification', 'ElectraForSequenceClassification', 'ErnieForSequenceClassification', 'ErnieMForSequenceClassification', 'EsmForSequenceClassification', 'FalconForSequenceClassification', 'FlaubertForSequenceClassification', 'FNetForSequenceClassification', 'FunnelForSequenceClassification', 'GemmaForSequenceClassification', 'Gemma2ForSequenceClassification', 'GlmForSequenceClassification', 'GPT2ForSequenceClassification', 'GPT2ForSequenceClassification', 'GPTBigCodeForSequenceClassification', 'GPTNeoForSequenceClassification', 'GPTNeoXForSequenceClassification', 'GPTJForSequenceClassification', 'IBertForSequenceClassification', 'JambaForSequenceClassification', 'JetMoeForSequenceClassification', 'LayoutLMForSequenceClassification', 'LayoutLMv2ForSequenceClassification', 'LayoutLMv3ForSequenceClassification', 'LEDForSequenceClassification', 'LiltForSequenceClassification', 'LlamaForSequenceClassification', 'LongformerForSequenceClassification', 'LukeForSequenceClassification', 'MarkupLMForSequenceClassification', 'MBartForSequenceClassification', 'MegaForSequenceClassification', 'MegatronBertForSequenceClassification', 'MistralForSequenceClassification', 'MixtralForSequenceClassification', 'MobileBertForSequenceClassification', 'MPNetForSequenceClassification', 'MptForSequenceClassification', 'MraForSequenceClassification', 'MT5ForSequenceClassification', 'MvpForSequenceClassification', 'NemotronForSequenceClassification', 'NezhaForSequenceClassification', 'NystromformerForSequenceClassification', 'OpenLlamaForSequenceClassification', 'OpenAIGPTForSequenceClassification', 'OPTForSequenceClassification', 'PerceiverForSequenceClassification', 'PersimmonForSequenceClassification', 'PhiForSequenceClassification', 'Phi3ForSequenceClassification', 'PhimoeForSequenceClassification', 'PLBartForSequenceClassification', 'QDQBertForSequenceClassification', 'Qwen2ForSequenceClassification', 'Qwen2MoeForSequenceClassification', 'ReformerForSequenceClassification', 'RemBertForSequenceClassification', 'RobertaForSequenceClassification', 'RobertaPreLayerNormForSequenceClassification', 'RoCBertForSequenceClassification', 'RoFormerForSequenceClassification', 'SqueezeBertForSequenceClassification', 'StableLmForSequenceClassification', 'Starcoder2ForSequenceClassification', 'T5ForSequenceClassification', 'TapasForSequenceClassification', 'TransfoXLForSequenceClassification', 'UMT5ForSequenceClassification', 'XLMForSequenceClassification', 'XLMRobertaForSequenceClassification', 'XLMRobertaXLForSequenceClassification', 'XLNetForSequenceClassification', 'XmodForSequenceClassification', 'YosoForSequenceClassification', 'ZambaForSequenceClassification'].\n",
            "100%|██████████| 1563/1563 [04:36<00:00,  5.66it/s]\n"
          ]
        }
      ]
    },
    {
      "cell_type": "code",
      "source": [
        "# Evaluate function for binary classification\n",
        "evaluate_binary(y_true, y_pred)"
      ],
      "metadata": {
        "id": "AilRYIsmmfG5",
        "colab": {
          "base_uri": "https://localhost:8080/"
        },
        "outputId": "1cba11d3-3f5a-4370-c996-755a2ea2f840"
      },
      "execution_count": 81,
      "outputs": [
        {
          "output_type": "stream",
          "name": "stdout",
          "text": [
            "Binary Accuracy: 0.896\n",
            "\n",
            "Binary Classification Report:\n",
            "              precision    recall  f1-score   support\n",
            "\n",
            "    negative       0.95      0.83      0.89     12500\n",
            "    positive       0.85      0.96      0.90     12500\n",
            "\n",
            "    accuracy                           0.90     25000\n",
            "   macro avg       0.90      0.90      0.90     25000\n",
            "weighted avg       0.90      0.90      0.90     25000\n",
            "\n",
            "\n",
            "Binary Confusion Matrix:\n",
            "[[10426  2074]\n",
            " [  536 11964]]\n"
          ]
        }
      ]
    },
    {
      "cell_type": "code",
      "source": [
        "# Print samples of predictions and true labels for verification\n",
        "print(\"Sample y_pred:\", y_pred[:100])\n",
        "print(\"Sample y_true:\", y_true[:100])"
      ],
      "metadata": {
        "id": "6g0hTPgTmgrI",
        "colab": {
          "base_uri": "https://localhost:8080/"
        },
        "outputId": "c444d120-0581-43ac-e8c8-87538e9df4ff"
      },
      "execution_count": 80,
      "outputs": [
        {
          "output_type": "stream",
          "name": "stdout",
          "text": [
            "Sample y_pred: ['negative', 'negative', 'negative', 'negative', 'positive', 'negative', 'positive', 'negative', 'negative', 'negative', 'negative', 'positive', 'negative', 'negative', 'negative', 'positive', 'negative', 'negative', 'negative', 'negative', 'positive', 'negative', 'negative', 'negative', 'negative', 'negative', 'negative', 'negative', 'negative', 'positive', 'negative', 'negative', 'positive', 'negative', 'negative', 'negative', 'positive', 'positive', 'negative', 'negative', 'negative', 'negative', 'positive', 'negative', 'negative', 'negative', 'positive', 'negative', 'negative', 'negative', 'negative', 'positive', 'negative', 'negative', 'negative', 'negative', 'negative', 'negative', 'negative', 'negative', 'negative', 'negative', 'negative', 'negative', 'negative', 'negative', 'negative', 'negative', 'negative', 'negative', 'negative', 'negative', 'negative', 'positive', 'negative', 'negative', 'negative', 'negative', 'positive', 'negative', 'negative', 'positive', 'negative', 'negative', 'negative', 'negative', 'negative', 'positive', 'positive', 'negative', 'negative', 'negative', 'negative', 'negative', 'negative', 'positive', 'positive', 'positive', 'positive', 'negative']\n",
            "Sample y_true: [0, 0, 0, 0, 0, 0, 0, 0, 0, 0, 0, 0, 0, 0, 0, 0, 0, 0, 0, 0, 0, 0, 0, 0, 0, 0, 0, 0, 0, 0, 0, 0, 0, 0, 0, 0, 0, 0, 0, 0, 0, 0, 0, 0, 0, 0, 0, 0, 0, 0, 0, 0, 0, 0, 0, 0, 0, 0, 0, 0, 0, 0, 0, 0, 0, 0, 0, 0, 0, 0, 0, 0, 0, 0, 0, 0, 0, 0, 0, 0, 0, 0, 0, 0, 0, 0, 0, 0, 0, 0, 0, 0, 0, 0, 0, 0, 0, 0, 0, 0]\n"
          ]
        }
      ]
    }
  ]
}